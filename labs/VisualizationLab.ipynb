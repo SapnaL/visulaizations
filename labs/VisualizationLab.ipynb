{
 "cells": [
  {
   "cell_type": "markdown",
   "metadata": {},
   "source": [
    "# Visualization Lab"
   ]
  },
  {
   "cell_type": "markdown",
   "metadata": {},
   "source": [
    "The goal of this lab is to gain familiarity with a few of the many plotting options in the Matplotlib library.  We will begin by exploring how different colorbars affect the perception of your data and then make a few different plots to practice line plots, histograms, and box plots.  The goal of this lab is to make visualization you would be eager to share with others, so remember to include meaningful axes labels and titles."
   ]
  },
  {
   "cell_type": "code",
   "execution_count": null,
   "metadata": {},
   "outputs": [],
   "source": [
    "import numpy as np\n",
    "import matplotlib.pyplot as plt\n",
    "from mpl_toolkits.axes_grid1 import make_axes_locatable"
   ]
  },
  {
   "cell_type": "markdown",
   "metadata": {},
   "source": [
    "Let's begin by generating some two dimensional data.  Run the code below to make a donut, but feel free to tweak the code to make other, more interesting data."
   ]
  },
  {
   "cell_type": "code",
   "execution_count": null,
   "metadata": {},
   "outputs": [],
   "source": [
    "nx, ny = (200, 200)\n",
    "x = np.linspace(-1, 1, nx)\n",
    "y = np.linspace(-1, 1, ny)\n",
    "\n",
    "X, Y = np.meshgrid(x, y)\n",
    "R = np.sqrt(X**2 + Y**2)\n",
    "\n",
    "z = np.sin(R*2.)**2"
   ]
  },
  {
   "cell_type": "markdown",
   "metadata": {},
   "source": [
    "To plot this data, use the `pcolormesh` function in Matplotlib.  We will add a second plot to this figure next, so save some hassle and set it up as a subplot with `subplots`."
   ]
  },
  {
   "cell_type": "code",
   "execution_count": null,
   "metadata": {},
   "outputs": [],
   "source": [
    "fig, ax = # call to make figure and axes\n",
    "im =  # pcolormesh"
   ]
  },
  {
   "cell_type": "markdown",
   "metadata": {},
   "source": [
    "The plot shows the data, but it isn't very informative.  To make the plot look nice we also want to exercise some control over the axes to declutter them by setting the tick marks to be in intervals of 0.5. Also, add \"x Coordinate\", and \"y Coordinate\" axes labels.  Remake the figure with this change."
   ]
  },
  {
   "cell_type": "code",
   "execution_count": null,
   "metadata": {},
   "outputs": [],
   "source": [
    "fig, ax = # call to make figure and axes\n",
    "im =  # pcolormesh\n",
    "\n",
    "# format ticks\n",
    "\n",
    "# add axes labels"
   ]
  },
  {
   "cell_type": "markdown",
   "metadata": {},
   "source": [
    "Now we can see the data and know the axes, but we still don't know what the values are.  It is important to show the color bar so others have a reference for the scale, which can be added with colorbar.  Make this final change and remake the figure."
   ]
  },
  {
   "cell_type": "code",
   "execution_count": null,
   "metadata": {},
   "outputs": [],
   "source": [
    "fig, ax = # call to make figure and axes\n",
    "im =  # pcolormesh\n",
    "\n",
    "# format ticks\n",
    "\n",
    "# add axes labels\n",
    "\n",
    "# add colorbar"
   ]
  },
  {
   "cell_type": "markdown",
   "metadata": {},
   "source": [
    "The 2D plot gives a good sense of the global function, but let's dive into it more by taking a slice through a row or column and show it in a second subplot.  Rather than assembling the entire plot in one go, let's build it step-by-step.  First, make a slice of the data, for instance horizontally through the 100th row (index 99)."
   ]
  },
  {
   "cell_type": "code",
   "execution_count": null,
   "metadata": {},
   "outputs": [],
   "source": [
    "cut = # perform slice horizontally through our data"
   ]
  },
  {
   "cell_type": "markdown",
   "metadata": {},
   "source": [
    "To check that we've done things correctly, plot the graph of `x` vs the values of `cut`."
   ]
  },
  {
   "cell_type": "code",
   "execution_count": null,
   "metadata": {},
   "outputs": [],
   "source": [
    "fig, ax = # call to make figure and axes\n",
    "im =  # plot"
   ]
  },
  {
   "cell_type": "markdown",
   "metadata": {},
   "source": [
    "Let's again remake the plot with tidier ticks and label the axes."
   ]
  },
  {
   "cell_type": "code",
   "execution_count": null,
   "metadata": {},
   "outputs": [],
   "source": [
    "fig, ax = # call to make figure and axes\n",
    "im =  # plot\n",
    "\n",
    "# format x-ticks\n",
    "\n",
    "# add axes labels"
   ]
  },
  {
   "cell_type": "markdown",
   "metadata": {},
   "source": [
    "Between the 2D plot and the line plot, we have two nice looking plots.  Let's show each of them as subplots with the 2D plot as the first and the line plot as the second.  Be sure to include the formatting changes we have made."
   ]
  },
  {
   "cell_type": "code",
   "execution_count": null,
   "metadata": {},
   "outputs": [],
   "source": [
    "fig, (ax1, ax2) = # make figure and two sets of subplot axes\n",
    "im1 = # pcolormesh\n",
    "\n",
    "# set colorbar for ax1\n",
    "\n",
    "# format ax1 axes ticks\n",
    "\n",
    "# add ax1 axes labels\n",
    "\n",
    "im2 = # plot slice\n",
    "\n",
    "# format ax2 x-axis ticks\n",
    "\n",
    "# add ax2 axes labels"
   ]
  },
  {
   "cell_type": "markdown",
   "metadata": {},
   "source": [
    "Play around a bit with the color bars on the 2D plot to see which you like best and to understand how it affects perception.  The ones we saw in lecture (`jet`, `gray`, and `inferno`) are a good starting point, but feel free to try the others provided by Matplotlib."
   ]
  },
  {
   "cell_type": "markdown",
   "metadata": {},
   "source": [
    "Contour plots are also useful for visualizing 2D data.  Let's make one of our data with either `contour` for a normal contour plot or `contourf` for a filled contour plot.  `colorbar` will take on the role of showing the contour levels, which we can adjust with the `levels` parameter.  We can either explicitly pass levels in an array or simply tell it the number of levels we want to plot."
   ]
  },
  {
   "cell_type": "code",
   "execution_count": null,
   "metadata": {},
   "outputs": [],
   "source": [
    "fig, ax = # call to make figure and axes\n",
    "im =  # contour\n",
    "\n",
    "# format ticks\n",
    "\n",
    "# add axes labels\n",
    "\n",
    "# add colorbar"
   ]
  },
  {
   "cell_type": "markdown",
   "metadata": {},
   "source": [
    "Moving on to plots of summary statistics, lets begin by plotting a histogram of the data."
   ]
  },
  {
   "cell_type": "code",
   "execution_count": null,
   "metadata": {},
   "outputs": [],
   "source": [
    "hist_data = z.flatten()    # need to flatten before feeding data to histogram\n",
    "\n",
    "fig, ax = # call to make figure and axes\n",
    "im = # hist"
   ]
  },
  {
   "cell_type": "markdown",
   "metadata": {},
   "source": [
    "Let's make it look nicer by explicitly setting the limits on the x-axis, labeling the axes, and making the plot itself look nicer.  Refer to the `VisualizationDemos` notebook for an example of how to change the number of bins and the bar edge color.  Try adding useful things to the plot like a vertical line marking the mean value or text boxes."
   ]
  },
  {
   "cell_type": "code",
   "execution_count": null,
   "metadata": {},
   "outputs": [],
   "source": [
    "from matplotlib import colors\n",
    "\n",
    "fig, ax = plt.subplots(1,1)\n",
    "im = # hist\n",
    "\n",
    "# additional manipulations to make the plot look nice"
   ]
  },
  {
   "cell_type": "markdown",
   "metadata": {},
   "source": [
    "The top level view we get from the histogram is useful, but lets look at the distributions of the pixel values more finely.  First, split the data into quarters long the vertical axis.  Then, make a box and whisker plots of the pixel values in these four regions.  Since `boxplot` expects a 1D sequence of values, we will first need to flatten the Numpy array with `flatten`.  For styling refer to the `draw_plot` function in the VisualizationDemos notebook."
   ]
  },
  {
   "cell_type": "code",
   "execution_count": null,
   "metadata": {},
   "outputs": [],
   "source": [
    "region1 = \n",
    "region2 = \n",
    "region3 = \n",
    "region4 = "
   ]
  },
  {
   "cell_type": "code",
   "execution_count": null,
   "metadata": {},
   "outputs": [],
   "source": [
    "def draw_plot(data, edge_color, fill_color):\n",
    "    # fill in draw_plot function\n",
    "\n",
    "fig, ax = # call to make figure and axes\n",
    "draw_plot()\n",
    "\n",
    "# format x-tick labels\n",
    "\n",
    "# add y-axis label;"
   ]
  },
  {
   "cell_type": "code",
   "execution_count": null,
   "metadata": {},
   "outputs": [],
   "source": []
  }
 ],
 "metadata": {
  "kernelspec": {
   "display_name": "Python (drewhogg)",
   "language": "python",
   "name": "drewhogg"
  },
  "language_info": {
   "codemirror_mode": {
    "name": "ipython",
    "version": 3
   },
   "file_extension": ".py",
   "mimetype": "text/x-python",
   "name": "python",
   "nbconvert_exporter": "python",
   "pygments_lexer": "ipython3",
   "version": "3.7.2"
  }
 },
 "nbformat": 4,
 "nbformat_minor": 2
}
